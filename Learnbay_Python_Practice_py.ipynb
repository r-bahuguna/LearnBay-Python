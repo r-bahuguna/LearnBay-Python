{
  "nbformat": 4,
  "nbformat_minor": 0,
  "metadata": {
    "colab": {
      "name": "Learnbay-Python-Practice.py",
      "provenance": [],
      "collapsed_sections": [],
      "include_colab_link": true
    },
    "kernelspec": {
      "name": "python3",
      "display_name": "Python 3"
    },
    "language_info": {
      "name": "python"
    }
  },
  "cells": [
    {
      "cell_type": "markdown",
      "metadata": {
        "id": "view-in-github",
        "colab_type": "text"
      },
      "source": [
        "<a href=\"https://colab.research.google.com/github/r-bahuguna/LearnBay-Python/blob/main/Learnbay_Python_Practice_py.ipynb\" target=\"_parent\"><img src=\"https://colab.research.google.com/assets/colab-badge.svg\" alt=\"Open In Colab\"/></a>"
      ]
    },
    {
      "cell_type": "code",
      "execution_count": null,
      "metadata": {
        "id": "DfXC8BaFfJun"
      },
      "outputs": [],
      "source": [
        "# The following code asks for user to input 4 numbers \n",
        "# in 4 different numer bases binary, octal, decimal and hexadecimal respectively) \n",
        "# and outputs a 4*4 table with conversions in all the number bases.\n",
        "\n",
        "\n",
        "usr_input = {'Binary':int(input('Enter a binary number: '), base=2), \n",
        "             'Octal':int(input('Enter an octal number: '), base=8),\n",
        "             'Decimal':int(input('Enter a decimal number: ')),\n",
        "             'HexDec':int(input('Enter a hexadecimal number: '), base=16)\n",
        "             }\n",
        "\n",
        "print()\n",
        "\n",
        "columns = ['Binary', 'Octal', 'Decimal', 'HexDec']\n",
        "\n",
        "for row in range(0, 2):\n",
        "  for column in range(0, 4):\n",
        "    if row == 0:\n",
        "     print(columns[column], end='\\t\\t')\n",
        "    elif row != 0:\n",
        "      print(bin(usr_input[columns[column]]), end='\\t\\t')\n",
        "      print(oct(usr_input[columns[column]]), end='\\t\\t')\n",
        "      print(int(usr_input[columns[column]]), end='\\t\\t')\n",
        "      print(hex(usr_input[columns[column]]), end='\\t\\t')\n",
        "      print()\n",
        "  print()"
      ]
    }
  ]
}