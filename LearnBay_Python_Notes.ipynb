{
  "cells": [
    {
      "cell_type": "markdown",
      "metadata": {
        "id": "S2aRLFvmvJKw"
      },
      "source": [
        "# Important URLs \n",
        "  - [Markdown writing and formatting syntax](https://docs.github.com/en/get-started/writing-on-github/getting-started-with-writing-and-formatting-on-github/basic-writing-and-formatting-syntax)\n",
        "  - [Jupyter Notebook Help](https://nbviewer.org/github/ipython/ipython/blob/3.x/examples/Notebook/Index.ipynb)\n",
        "  - [Python documentation](https://docs.python.org/3.9/)\n",
        "  - [iPython documentation](https://ipython.org/documentation.html?v=20220703072139)\n",
        "  - [Colab Markdown guide](https://colab.research.google.com/notebooks/markdown_guide.ipynb#scrollTo=w86a4I4fmkvD)"
      ]
    },
    {
      "cell_type": "markdown",
      "source": [
        "# ***-------->CORE PYTHON<--------***"
      ],
      "metadata": {
        "id": "vvE294ikhnCw"
      }
    },
    {
      "cell_type": "markdown",
      "metadata": {
        "id": "KmSuDn4u67Ac"
      },
      "source": [
        "# Variables \n",
        "  - containers for storing data\n",
        "  - name for a reserved memory location\n",
        "  - created when initialised \n",
        "  ```\n",
        "  var = \"Hello World\"                # initializing var variable with a string literal\n",
        "  ```\n",
        "\n",
        "### Naming Convention\n",
        "  - starts with letter or underscore\n",
        "  - can't start with a number \n",
        "   ```\n",
        "  # incorrect syntax\n",
        "  1var = 10                          # --> SyntaxError\n",
        "  2var = 20                          # --> SyntaxError\n",
        "  ```\n",
        "  - can contain only letters, numbers or underscore\n",
        "  - **Names are Case Sensitive** \n",
        "  ``` \n",
        "  # these are two different variables:\n",
        "  x = 10 \n",
        "  X = 20 \n",
        "  ```\n",
        "  - we can assign single value to multiple variables \n",
        "   ``` \n",
        "   a = b = c = 10 \n",
        "   ```\n",
        "  - *Keywords* should not be variable names \n",
        "   ```\n",
        "   help('keywords')\n",
        "   ``` \n",
        "   or \n",
        "  ```\n",
        "  import keyword\n",
        "  keyword.kwlist\n",
        "  ```\n",
        "\n"
      ]
    },
    {
      "cell_type": "markdown",
      "metadata": {
        "id": "sAlbAWj7GZJH"
      },
      "source": [
        "# Comments\n",
        "  - make code more readable\n",
        "  - prevent code execution\n",
        "  ```\n",
        "     # This is a comment\n",
        "     # print('Uncomment to print this statement')\n",
        "  ```\n",
        "  - Triple quotes can be used to write multi-line comments\n",
        "  ```\n",
        "  '''\n",
        "  This is \n",
        "  a multi-line\n",
        "  comment\n",
        "  '''\n",
        "  ```"
      ]
    },
    {
      "cell_type": "markdown",
      "metadata": {
        "id": "Fz5njgOGMJ_S"
      },
      "source": [
        "# Escape Characters\n",
        "  - New line -> ```\\n```\n",
        "  - Tab (4 spaces) -> ```\\t```"
      ]
    },
    {
      "cell_type": "markdown",
      "metadata": {
        "id": "Y3vY73dBMNmM"
      },
      "source": [
        "# Input/ Output\n",
        "  - Input \n",
        "   ```\n",
        "   usr_input = input(\"Enter user input: \")\n",
        "   ```\n",
        "  - Output\n",
        "   ```\n",
        "   print(usr_input)\n",
        "   ```"
      ]
    },
    {
      "cell_type": "markdown",
      "metadata": {
        "id": "pzd5sXKLOhKX"
      },
      "source": [
        "# Data Types\n",
        "  - ### Non Sequence\n",
        "    - Numeric\n",
        "     - Int\n",
        "     - Float\n",
        "     - Complex Numbers\n",
        "     ```\n",
        "     comp_num = 2 + 3j\n",
        "     type(comp_num)        # Complex\n",
        "     ```\n",
        "    - Boolean\n",
        "    ```\n",
        "    x = True\n",
        "    y = False\n",
        "    ```\n",
        "\n",
        "  - ### Sequence\n",
        "    - #### Ordered:\n",
        "      - String\n",
        "      \n",
        "      ```\n",
        "      message = 'Hello World'\n",
        "      message[0]           # Output: 'H' -> called Indexing\n",
        "      len(message)         # Output: 11 -> len function only works on sequencial data types\n",
        "      mesage[0] = 'Z'      # Throws error -> because strings are immutable\n",
        "\n",
        "      # Use triple quotes for multi-line strings\n",
        "      x = \"\"\"              \n",
        "      Hey, this is \n",
        "      a multi-line \n",
        "      string\n",
        "      \"\"\"\n",
        "\n",
        "      y = '''\n",
        "      This is\n",
        "      another multi-line\n",
        "      string\n",
        "      '''\n",
        "      ```\n",
        "      - List\n",
        "\n",
        "      ```\n",
        "      # List is hetrogenous\n",
        "      # Elements in list can be repeated\n",
        "      # List is mutable,\n",
        "      list1 = [2, 2.5, 'hello', [0, 'World'], 2, 2.5, True, (1-4j)]\n",
        "      list1[3][1]              # Output: 'World'\n",
        "      list1[2] = 'Hi'          # modifying 3rd element of the list\n",
        "      list1[0] = str(list1[0]) # converting 1st value of the list to string - called Type Casting\n",
        "      list2 = [[0, 1], [2, 3]] # 2 dimensional list\n",
        "\n",
        "      ```\n",
        "\n",
        "      - Tuple\n",
        "\n",
        "      ```\n",
        "      # Tuple is hetrogenous\n",
        "      # Elements in a tuple can be repeated\n",
        "      # Tuple is immutable\n",
        "      tuple1 = (2, 2.5, 'hello', [0, 'World'], 2, 2.5, True, (1-4j))\n",
        "      tuple1[3] = 'Hi'          # Throws TypeError as tuple can't be modified\n",
        "      tuple1[3][1] = 'Hi'       # modifying elements inside a mutable element of a tuple is possible\n",
        "      var1 = 1, 2, 3, 'Hi'      # Output: (1, 2, 3, 'Hi') -> automatically becomes a tuple\n",
        "      var2 = (12)               # Output: 12 -> automatically becomes an int\n",
        "      var3 = (12,)              # Output: (12,) -> correct way to create a tuple with single element\n",
        "      ```\n",
        "    - #### Unordered\n",
        "      - Dictionary\n",
        "        - stores values like a map, i,e, key:value pair\n",
        "        - Dictionary as a whole is mutable\n",
        "          - Keys are immutable\n",
        "            - they can't be repeated\n",
        "            - they will always be immutable data type\n",
        "          - Values are mutable\n",
        "            - they can be repeated\n",
        "            - they can be im/mutable data type\n",
        "            \n",
        "            ```\n",
        "            dict1 = {'Name':'Rick', True:1, False:1, 2:['Hello', 'World'], 2:['Hi', 'Rick'] }\n",
        "            dict1[2]               # Output: ['Hi', 'Rick'] - keys can't be repeated\n",
        "            dict1['Name']          # Output: 'Rick' - value can be accessed from key\n",
        "            dict1['Name'] = 'John' # modifying a value using key\n",
        "            dict1['Rick']          # Throws KeyError as key can't be accessed from value\n",
        "\n",
        "            # To access keys in a dictionary, we can use a for loop:\n",
        "\n",
        "            for keys in dict1:\n",
        "              print(keys)\n",
        "\n",
        "            ```\n",
        "\n",
        "      - Set \n",
        "        - elements of a set are unique\n",
        "        - Set as a whole is mutable, however, **elements of set are immutable**\n",
        "        ```\n",
        "        # Hashing is used to store data in memory\n",
        "        # does not return elements of set in a particular order\n",
        "        set1 = {1,2,2,2,3,4,4.5,5}\n",
        "        set1                       # Output: {1,2,3,4,4.5,5}                                        \n",
        "        # Mutating set as a whole\n",
        "        set1.add(6) \n",
        "        set1.remove(4.5)\n",
        "        set1                       # Output: {1, 2, 3, 4, 5, 6}\n",
        "        ```\n",
        "\n",
        "  \n"
      ]
    },
    {
      "cell_type": "markdown",
      "metadata": {
        "id": "utor6CPDIDgZ"
      },
      "source": [
        "# Immutable Vs Mutable Data Types\n",
        "\n",
        "  - Immutable Data Types:\n",
        "    - Numeric\n",
        "    - Boolean\n",
        "    - String\n",
        "    - Tuple\n",
        "  - Mutable Data Types:\n",
        "    - List\n",
        "    - Dictionary\n",
        "    - Set"
      ]
    },
    {
      "cell_type": "markdown",
      "metadata": {
        "id": "v2bifJbyazNU"
      },
      "source": [
        "# Type Casting\n",
        "  meaning - converting data type of of one data to another ***compatible*** data type\n",
        "  ```\n",
        "  # converting int to float\n",
        "  num = 2\n",
        "  float(num)                      # Output: 2.0\n",
        "  # converting int to string\n",
        "  num1 = 23\n",
        "  str(num1)                       # Output: '23'\n",
        "  # converting list to tuple\n",
        "  list1 = [1, 2, 3, 4]\n",
        "  tuple(list1)                    # Output: (1, 2, 3, 4)\n",
        "  # Incompatible Type Casting\n",
        "  str1 = 'a1'\n",
        "  int(str1)                       # Throws ValueError\n",
        "  # Converting a list to dictionary\n",
        "  list1 = [1, 2, 3, 4]\n",
        "  dict(list1)                     # Throws TypeError\n",
        "  # Converting a 2 dimensional list/ tuple to dictionay is possible\n",
        "  list2 = [[1, 2], [3, 4]]\n",
        "  dict(list2)                     # Output: {1: 2, 3: 4}\n",
        "  # Converting list to set\n",
        "  list3 = [1, 2, [1, 2, 3]]\n",
        "  set(list3)                      # Throws TypeError because elements of list are always immutable\n",
        "  list4 = [1, 2, (1, 2, 3)]\n",
        "  set(list4)                      # Output: {(1, 2, 3), 1, 2}\n",
        "  # converting dictionary to list/ tuple\n",
        "  dict1 = {'Name':'Rick', 'Score':42, 'Age':24}\n",
        "  list(dict1)                     # Output: ['Name', 'Score', 'Age']  -> stores only keys\n",
        "  ```\n",
        "  #### Type Casting User Input:\n",
        "  ```\n",
        "  usr_input = input('Enter your marks: ')     # By default it will be a string data type\n",
        "  int_usr_input = int(float(usr_inpput))      # Converting user input to int \n",
        "\n",
        "  ```\n",
        "  #### Type Casting int to Boolean\n",
        "  ```\n",
        "  bool(0)                                     # Output: False\n",
        "  bool(1)                                     # Output: True -> boolean of any int except 0 is True\n",
        "  ```"
      ]
    },
    {
      "cell_type": "markdown",
      "metadata": {
        "id": "xWtcmB712aJX"
      },
      "source": [
        "# Types of Operators\n",
        "  - Arithmetic Operators\n",
        "  ```\n",
        "   +, -, /, //, **, %\n",
        "   # Devision Operator:\n",
        "   3 / 1                     # Output: 3.0 -> always gives float value \n",
        "   # Modulus Operator:\n",
        "   5 % 2                     # Output: 1 -> data type of value depends on dividend\n",
        "   # Power Operator:\n",
        "   2 ** 2                    # Output: 4 -> data type of value depends on dividend\n",
        "   # Floor Division:\n",
        "   5.0 // 2                  # Output: 2.0 -> data type of value depends on dividend\n",
        "  ```\n",
        "  - Assignment Operators\n",
        "  ```\n",
        "  =, +=, -=, *=, /=, //=, **=, %=\n",
        "  x = 5\n",
        "  x += 1                       # Output: 6 -> Increment Operator\n",
        "  x -= 3                       # Output: 3 -> Decrement Operator\n",
        "  ```\n",
        "  - Comparison Operators\n",
        "  ```\n",
        "  ==, !=, >, <, >=, <=         # Output is always a Boolean Value\n",
        "  # != and == are called also Equality Operators\n",
        "  x == 3.                      # Output: True\n",
        "  x != 3                       # Output: False\n",
        "  a > b                        # Output: False -> compares ASCII value\n",
        "  'red' > 'real'               # Output: True\n",
        "  ```\n",
        "  - Logical Operators\n",
        "  ```\n",
        "  and, or, not                 # i/p and o/p will be Boolean value\n",
        "  # and operator returns True if both i/ps are True\n",
        "  # or operator returns True if either i/p is Ture\n",
        "  # not operator negates/ onverts the o/p, i.e., True becomes False and vice-versa\n",
        "  True and True                # Output: True\n",
        "  True and False               # Output: False\n",
        "  True or True                 # Output: True\n",
        "  True or False                # Output: False\n",
        "  rain = True\n",
        "  t_storm = True\n",
        "  wind = False\n",
        "  rain and t_storm and wind    # Output: False \n",
        "  # and finds False and returns 2nd value if 1st is True and vice-versa\n",
        "  1 and 2                      # Output: 2\n",
        "  # or finds True and returns 2nd value if 1st is False and vice-versa\n",
        "  0 or 1                       # Output: 1       \n",
        "  ```\n",
        "  - Bitwise Operators\n",
        "  ```\n",
        "  &, |, ^\n",
        "  # Bitwise and \n",
        "  4 & 11                       # Output: 0\n",
        "  # Bitwise or\n",
        "  4 | 11                       # Output: 4\n",
        "  # Bitwise XOR\n",
        "  # it means o/p will be High for different i/ps and Low for same i/ps\n",
        "  4 ^ 11                       # Output: 15\n",
        "  ```\n",
        "  - Membership Operators\n",
        "  ```\n",
        "  in, not in\n",
        "  str1 = 'Hello World'\n",
        "  'H' in str1                  # Output: True\n",
        "  'W' not in str1              # Output: False\n",
        "  list1 = [1, 2, 3, 4]\n",
        "  4 in list1                   # Output: True\n",
        "  5 not in list1               # Output: True\n",
        "  ```\n",
        "  - Identity Operators"
      ]
    },
    {
      "cell_type": "markdown",
      "metadata": {
        "id": "vGTyd3BGV-VZ"
      },
      "source": [
        "# Conditional Statements\n",
        "```\n",
        "# Syntax\n",
        "if condition/boolenaConstraint:\n",
        "    task_that_needs_to_be_exeuted_when_condition_is_True           # Indentation is used for statement blocks\n",
        "else:\n",
        "    task_that_needs_to_be_exeuted_when_condition_is_False          # Else statement is optional\n",
        "```\n",
        "#### Example - Pass/ Fail System:\n",
        "```\n",
        "marks = int(input('Enter marks: '))\n",
        "if marks > 40:\n",
        "    print('Passed')\n",
        "    print('Good Job!')\n",
        "else:\n",
        "    print('Failed')\n",
        "    print('You need to work harder.')\n",
        "```\n",
        "#### Nested Statements:\n",
        "```\n",
        "marks = int(input('Enter marks: '))\n",
        "if 0 <= marks <= 100:                              # Parent If\n",
        "    if marks > 40:                                 # Child If\n",
        "        print('Passed')\n",
        "        print('Good Job!')\n",
        "    else:                                          # Child Else\n",
        "        print('Failed')\n",
        "        print('You need to work harder.')\n",
        "else:\n",
        "    print('Invalid input..')\n",
        "```\n",
        "#### Grading system with nested statements:\n",
        "```\n",
        "marks = int(input('Enter marks: '))\n",
        "if marks > 90:\n",
        "    print('Grade A+')\n",
        "else:\n",
        "    if marks > 80:\n",
        "        print('Grade A')\n",
        "    else:\n",
        "        if marks > 70:\n",
        "            print('Grade B+')\n",
        "        else:\n",
        "            print('something')\n",
        "```\n",
        "#### Grading system with elif statements:\n",
        "```\n",
        "marks = int(input('Enter marks: '))\n",
        "if marks > 90:\n",
        "    print('Grade A+')\n",
        "elif marks > 80:\n",
        "    print('Grade A')\n",
        "elif marks >70:\n",
        "    print('Grade B+')\n",
        "else:\n",
        "    print('something')\n",
        "```\n",
        "#### Ladder If Statements:\n",
        " *(used when multiple statements can be True)*\n",
        "```\n",
        "marks = int(input('Enter marks: '))\n",
        "if marks > 90:\n",
        "    print('Grade A+')\n",
        "if marks > 80:\n",
        "    print('Grade A')\n",
        "if marks >70:\n",
        "    print('Grade B+')\n",
        "```"
      ]
    },
    {
      "cell_type": "markdown",
      "metadata": {
        "id": "sqsz9OLT8FsX"
      },
      "source": [
        "# Loops\n",
        "\n",
        "- For Loops\n",
        "  - when num of iterations is known\n",
        "  - it is directly related to a sequential data type\n",
        "  - else block is oprional\n",
        "\n",
        "  ```\n",
        "  # print 'Hello' 10 times:\n",
        "  for i in range(10):\n",
        "    print(\"hello\")\n",
        "\n",
        "  # print charaters of a string:\n",
        "  for i in 'Hello':\n",
        "    print(i)\n",
        "\n",
        "  # print all items of a list:\n",
        "  for i in [1, 2, 3, 4, 'Hello', True]:\n",
        "    print(i)\n",
        "\n",
        "  # print keys of a dictionary:\n",
        "  for i in {1:'Hi', 2:\"World\"}:\n",
        "    print(i)\n",
        "\n",
        "  # gives us better control over elements of iterable\n",
        "  h = \"hello\"\n",
        "  for x in range(len(h)):\n",
        "    print(h[x])\n",
        "\n",
        "  # grading system for known number of students\n",
        "  for i in range(5):\n",
        "    marks = int(input(\"Enter marks: \"))\n",
        "    if marks >= 40:\n",
        "      print('Passed')\n",
        "    else:\n",
        "      print('Failed')\n",
        "\n",
        "  ```\n",
        "  \n",
        "- While Loops\n",
        "  - when condotion to control iteration is known\n",
        "  - it is directly dependent on a boolean\n",
        "\n",
        "  ```\n",
        "  # print numbers from 0 to 4:\n",
        "  x = 0\n",
        "  while x < 5:\n",
        "    print(x)\n",
        "    x += 1\n",
        "\n",
        "  # another example of while loop:\n",
        "  while \"x\" in ['a', 'b', 'x']:\n",
        "    print('x')\n",
        "    break                                 # Output: x\n",
        "\n",
        "  # grading system when number of students is unknown\n",
        "  # using flag variable\n",
        "  flag = True\n",
        "  while(flag):\n",
        "    marks = int(input(\"Enter -1 to STOP \\nEnter marks: \"))\n",
        "    if marks == -1:\n",
        "      flag = not flag\n",
        "    elif marks > 40:\n",
        "      print(\"Passed\")\n",
        "    else:\n",
        "      print('Failed')\n",
        "\n",
        "  ```"
      ]
    },
    {
      "cell_type": "markdown",
      "metadata": {
        "id": "eePxFrhuSG5N"
      },
      "source": [
        "# Jump Statements\n",
        "\n",
        "- Break - *it is used to terminate loop*\n",
        "\n",
        "```\n",
        "for i in range(10):\n",
        "  if i == 5:\n",
        "    break                           # terminates loop at 5th iteration\n",
        "    print(i)\n",
        "```\n",
        "\n",
        "- Continue - *it is used to terminate any iteration of a loop and return control to the beginning of the loop*\n",
        "\n",
        "```\n",
        "for i in range(10):\n",
        "  if i == 5:\n",
        "    continue                        # skips 5th iteration and continues with rest\n",
        "  print(i)\n",
        "```\n",
        "\n",
        "- Pass - *it is a null statement, used as a placeholder when user doesn't know what code to write*\n",
        "\n",
        "```\n",
        "marks = 50\n",
        "\n",
        "if marks > 40:\n",
        "  pass\n",
        "else:\n",
        "  pass                              # no output and no error\n",
        "```"
      ]
    },
    {
      "cell_type": "markdown",
      "metadata": {
        "id": "u_fjjonQaESb"
      },
      "source": [
        "# for-else statement\n",
        "\n",
        "*returns code block in 'else' only if the loop runs successfully without any break*\n",
        "\n",
        "  ```\n",
        "for i in range(10):\n",
        "  if i == 10:\n",
        "    break\n",
        "  print(i)\n",
        "else:\n",
        "  print('Loop ran successfully without break')             # 'else' code block will run because break statement is not executed\n",
        "\n",
        "  ```\n"
      ]
    },
    {
      "cell_type": "markdown",
      "metadata": {
        "id": "uEen1QZD_93c"
      },
      "source": [
        "# Operations on Sequential Data types:"
      ]
    },
    {
      "cell_type": "markdown",
      "metadata": {
        "id": "HswtINu789NL"
      },
      "source": [
        "# Operations on Strings:\n",
        "\n",
        "```\n",
        "s1 = 'Hello'\n",
        "s2 = 'World'\n",
        "\n",
        "# Concatination:\n",
        "s3 = s1 + ' ' + s2\n",
        "\n",
        "# Repitition:\n",
        "s1 * 2\n",
        "\n",
        "# Slicing:\n",
        "s3[2:7]\n",
        "\n",
        "s3[::2]\n",
        "\n",
        "s3[::-1]         # Reverse Slicing\n",
        "\n",
        "```\n",
        "\n",
        "# Methods on Strings:\n",
        "\n",
        "```\n",
        "# find() method \n",
        "# gives index # of 1st occurence of substring\n",
        "\n",
        "s4 = 'Hello World! How are you all ?'\n",
        "\n",
        "s4.find('o')\n",
        "\n",
        "s4.find('H', 10, 20)\n",
        "\n",
        "# gives output -1 if substring is not found\n",
        "\n",
        "s4.find('z')                               # Output: -1\n",
        "\n",
        "# find all the occurences of a substring:\n",
        "\n",
        "ind = -1\n",
        "for i in range(len(s4)):\n",
        "  ind = s4.find('H', ind +1)\n",
        "  if ind == -1:\n",
        "    break\n",
        "  print(ind)\n",
        "\n",
        "```\n",
        "\n",
        "```\n",
        "# enumerate() function:\n",
        "\n",
        "s4 = 'Hello World! How are you all ?'\n",
        "\n",
        "for i, c in enumerate(s4):\n",
        "  if c == 'H':\n",
        "    print(i)\n",
        "    \n",
        "```\n",
        "\n",
        "```\n",
        "\n",
        "# index() method:\n",
        "# it is same as find() method\n",
        "# it gives error when substring is not found\n",
        "\n",
        "s4 = 'Hello World! How are you all ?'\n",
        "\n",
        "s4.index('H')\n",
        "s4.index('z')                      # ---> ValueError\n",
        "\n",
        "\n",
        "```\n",
        "\n",
        "```\n",
        "# replace() method:\n",
        "\n",
        "s4 = 'Hello World! How are you all ?'\n",
        "\n",
        "s4.replace('How', 'Why')\n",
        "\n",
        "```\n",
        "\n",
        "```\n",
        "# count() method:\n",
        "\n",
        "s4 = 'Hello World! How are you all ?'\n",
        "\n",
        "s4.count('H')\n",
        "```\n",
        "\n",
        "```\n",
        "# split() method:\n",
        "\n",
        "s4 = 'Hello World! How are you all ?'\n",
        "\n",
        "s4.split(' ')\n",
        "\n",
        "# we can give number of count for split\n",
        "\n",
        "dob = '01/09/1995'\n",
        "\n",
        "dob.split('/', 1)\n",
        "```\n",
        "\n",
        "```\n",
        "# mthods to change case:\n",
        "\n",
        "name = 'Slim Shady'\n",
        "\n",
        "name.upper()                         # Output: SLIM SHADY\n",
        "\n",
        "name.lower()                         # Output: slim shady\n",
        "\n",
        "name.title()                         # Output: Slim Shady\n",
        "\n",
        "name.capitalize()                    # Output: Slim shady\n",
        "```\n",
        "\n",
        "```\n",
        "# # returns char based on ASCII value:\n",
        "\n",
        "max(name)                            # Output: y\n",
        "\n",
        "min(name)                            # Output: ' '\n",
        "\n",
        "```\n",
        "\n",
        "```\n",
        "# methods to check case:\n",
        "\n",
        "name = 'Slim Shady'\n",
        "name_upper = name.upper()\n",
        "name_lower = name.lower()\n",
        "name_title = name.title()\n",
        "\n",
        "name_upper.isupper()                       # Output: True\n",
        "name_lower.islower()                       # Output: True\n",
        "name_title.istitle()                       # Output: True\n",
        "name.isalpha()                             # Output: False ---> due to space character\n",
        "\n",
        "'123'.isdigit()                            # Output: True\n",
        "'Hello123'.isalnum()                       # Output: True\n",
        "\n",
        "\n",
        "```\n",
        "\n",
        "```\n",
        "# join() method:\n",
        "\n",
        "l = ['a', 'b', 'c', 'd']\n",
        "\n",
        "' '.join(l)                        # Output: a b c d\n",
        "':'.join(l)                        # Output: a:b:c:d  \n",
        "```"
      ]
    },
    {
      "cell_type": "markdown",
      "metadata": {
        "id": "n99Qf35s_0fq"
      },
      "source": [
        "# Operations on Lists:\n",
        "\n",
        "```\n",
        "l1 = [1, 2, 3, 4]\n",
        "l2 = [5, 6, 7, 8]\n",
        "\n",
        "# Concatination:\n",
        "l1 + l2                           # Output: [1, 2, 3, 4, 5, 6, 7, 8]\n",
        "\n",
        "# Repetition: \n",
        "l1 * 2                            # Output: [1, 2, 3, 4, 1, 2, 3, 4]\n",
        "\n",
        "# Slicing:\n",
        "l1[::-1]                          # Output: [4, 3, 2, 1]\n",
        "```\n",
        "# Methods on Lists\n",
        "\n",
        "```\n",
        "# append() method:\n",
        "\n",
        "l1 = [1, 2, 3, 4]\n",
        "l2 = [5, 6, 7, 8]\n",
        "\n",
        "l1.append(5)\n",
        "l1                                          # Output: [1, 2, 3, 4, 5]\n",
        "\n",
        "l1.append([6, 7, 8])\n",
        "l1                                          # Output: [1, 2, 3, 4, 5, [6, 7, 8]]\n",
        "\n",
        "l1.append(l2)\n",
        "l1                                          # Output: [1, 2, 3, 4, 5, [6, 7, 8], [5, 6, 7, 8]]\n",
        "\n",
        "```\n",
        "\n",
        "```\n",
        "# extend() method:\n",
        "\n",
        "l2 = [5, 6, 7, 8]\n",
        "l2.extend([9, 10, 11])\n",
        "l2                                          # Output: [5, 6, 7, 8, 9, 10, 11]\n",
        "```\n",
        "\n",
        "```\n",
        "# insert() method: \n",
        "\n",
        "names = ['John', 'Key', 'Peele', 'Tom']\n",
        "\n",
        "names.insert(3, 'Harry')\n",
        "names                                        # Output: ['John', 'Key', 'Peele', 'Harry', 'Tom']\n",
        "```\n",
        "\n",
        "```\n",
        "# pop() method:\n",
        "# default index is -1\n",
        "\n",
        "names = ['John', 'Key', 'Peele', 'Tom']\n",
        "\n",
        "names.pop()\n",
        "names                                        # Output: ['John', 'Key', 'Peele']\n",
        "\n",
        "names.pop(0)\n",
        "names                                        # Output: ['Key', 'Peele']   \n",
        "```\n",
        "\n",
        "```\n",
        "# remove() method:\n",
        "\n",
        "names = ['John', 'Key', 'Peele', 'Tom']\n",
        "\n",
        "names.remove('John')\n",
        "names                                        # Output: 'Key', 'Peele', 'Tom']\n",
        "```\n",
        "\n",
        "```\n",
        "# count() method:\n",
        "\n",
        "names = ['John', 'Key', 'Peele', 'Tom', 'Tom']\n",
        "names.count('Tom')                         # Output: 2\n",
        "\n",
        "for i in range(names.count('Tom')):\n",
        "  if 'Tom' in names:\n",
        "    names.remove('Tom')\n",
        "\n",
        "names                                      # Output: ['John', 'Key', 'Peele']\n",
        "```\n",
        "\n",
        "```\n",
        "# del function:\n",
        "\n",
        "names = ['John', 'Key', 'Peele', 'Tom', 'Tom']\n",
        "\n",
        "del names[0]\n",
        "\n",
        "names                               # Output: ['Key', 'Peele', 'Tom', 'Tom']\n",
        "```\n",
        "\n",
        "```\n",
        "# copy() method:\n",
        "\n",
        "names = ['John', 'Key', 'Peele', 'Tom', 'Tom']\n",
        "\n",
        "names_copy = names.copy()\n",
        "\n",
        "names_copy.pop()\n",
        "\n",
        "print(names)                         # Output: ['John', 'Key', 'Peele', 'Tom', 'Tom']\n",
        "print(names_copy)                    # Output: ['John', 'Key', 'Peele', 'Tom']\n",
        "\n",
        "```\n",
        "\n",
        "```\n",
        "# clear() method:\n",
        "\n",
        "names = ['John', 'Key', 'Peele', 'Tom', 'Tom']\n",
        "\n",
        "names.clear()\n",
        "\n",
        "names                         # Output: names = []\n",
        "\n",
        "```\n",
        "\n",
        "```\n",
        "# sort() method:\n",
        "\n",
        "l = [9, 4, 7, 2, 5, 1]\n",
        "\n",
        "l.sort()\n",
        "\n",
        "l                       # Output: [1, 2, 4, 5, 7, 9]\n",
        "\n",
        "l.sort(reverse = True)\n",
        "\n",
        "l                       # Output: [9, 7, 5, 4, 2, 1]\n",
        "```\n",
        "\n",
        "```\n",
        "# reverse() method:\n",
        "\n",
        "l = [9, 4, 7, 2, 5, 1]\n",
        "\n",
        "l.reverse()\n",
        "\n",
        "l                        # Output: [1, 5, 2, 7, 4, 9]\n",
        "```\n"
      ]
    },
    {
      "cell_type": "markdown",
      "metadata": {
        "id": "3fWdY6xoz-y7"
      },
      "source": [
        "# String Formatting:\n",
        "\n",
        "- Formatting with % Operator:\n",
        "\n",
        "```\n",
        "x = 10\n",
        "y = 20\n",
        "\n",
        "print('Sum of %s and %s is %s'%(x, y, x+y))          # Output: Sum of 10 and 20 is 30\n",
        "```\n",
        "\n",
        "- Formatting with format() method:\n",
        "\n",
        "```\n",
        "print('This is a {} string'.format('formatted'))                    # Output: This is a formatted string\n",
        "\n",
        "print('This is another {t} string.'.format(t = 'formatted'))        # Output: This is another formatted string.\n",
        "\n",
        "print('{2} {0} {1}.'.format( 'is', 'Slim Shady', 'My name'))        # Output: My name is Slim Shady.\n",
        "```\n",
        "\n",
        "- formatting with string literals, called, f-strings\n",
        "\n",
        "```\n",
        "f_name = 'Greatest'\n",
        "l_name = 'Ever'\n",
        "\n",
        "print(f'Last name {l_name}, first name {f_name}.')             # Output: Last name Ever, first name Greatest.\n",
        "```"
      ]
    },
    {
      "cell_type": "markdown",
      "metadata": {
        "id": "0QUardgL4tCs"
      },
      "source": [
        "# Operations on Tuples:\n",
        "\n",
        "- Only those methods will work that don't modify the Tuple because Tuples are immutable. For eg, copy(), clear(), append(), extend(), etc.\n",
        "\n",
        "- Methods on Tuple:\n",
        "\n",
        "\n",
        "```\n",
        "\n",
        "# index() method:\n",
        "\n",
        "t = (1, 2, 3, 4, 5)\n",
        "\n",
        "t[1]                                 # Output: 2\n",
        "\n",
        "# count() method:\n",
        "\n",
        "t.count(1)                           # Output: 1\n",
        "\n",
        "# max() function:\n",
        "\n",
        "max(t)                               # Output: 5\n",
        "\n",
        "# min() function: \n",
        "\n",
        "min(t)                               # Output: 1\n",
        "\n",
        "# type() function:\n",
        "\n",
        "type(t)                              # Output: tuple\n",
        "\n",
        "```"
      ]
    },
    {
      "cell_type": "markdown",
      "metadata": {
        "id": "DPLW2alnTOOl"
      },
      "source": [
        "# Methods on Dictonaries:\n",
        "\n",
        "- Operations like concatination, repetition, slicing and indexing are not possible because Dictionaries are unordered\n",
        "\n",
        "```\n",
        "# update method()\n",
        "\n",
        "d = {1 : True, 2 : False, 3 : 'Hi'}\n",
        "\n",
        "\n",
        "d.update({1 : False, 4 : \"Hello\"})\n",
        "\n",
        "d                                          # Output: {1: False, 2: False, 3: 'Hi', 4: 'Hello'}\n",
        "\n",
        "d[2] = True\n",
        "\n",
        "d                                          # Output: {1: False, 2: True, 3: 'Hi', 4: 'Hello'}\n",
        "\n",
        "d[5] = \"World\"\n",
        "\n",
        "d                                          # Output: {1: False, 2: True, 3: 'Hi', 4: 'Hello', 5: 'World'}\n",
        "\n",
        "# get() method:\n",
        "\n",
        "print(d.get(5))                            # Output: World\n",
        "\n",
        "print(d.get(7))                            # Output: None\n",
        "\n",
        "\n",
        "# pop() method:\n",
        "\n",
        "d.pop(5)\n",
        "\n",
        "d                                          # Output: {1: False, 2: True, 3: 'Hi', 4: 'Hello'}\n",
        "\n",
        "\n",
        "# del function:\n",
        "\n",
        "del d[1]\n",
        "\n",
        "d                                         # Output: {2: True, 3: 'Hi', 4: 'Hello'}\n",
        "\n",
        "# keys() method:\n",
        "# gives iterable, not a sequence\n",
        "\n",
        "d.keys()                                  # Output: dict_keys([2, 3, 4]) \n",
        "\n",
        "# items() method:\n",
        "\n",
        "d.items()                                 # Output: dict_items([(2, True), (3, 'Hi'), (4, 'Hello')])\n",
        "\n",
        "# values() method:\n",
        "\n",
        "d.values()                                # Output: dict_values([True, 'Hi', 'Hello'])\n",
        "\n",
        "\n",
        "for x, y in d.items():\n",
        "  print('x = ', x, end = '\\t')\n",
        "  print('y = ', y, end = ' ')            # Output: x =  2\ty =  True x =  3\ty =  Hi x =  4\ty =  Hello \n",
        "\n",
        "\n",
        "```\n"
      ]
    },
    {
      "cell_type": "markdown",
      "metadata": {
        "id": "XCzwPg0QYO-1"
      },
      "source": [
        "# Operations on Sets:\n",
        "\n",
        "```\n",
        "# Uninon operation:\n",
        "\n",
        "se1 = {1, 3, 5, 7}\n",
        "\n",
        "se2 = {2, 4, 6, 8}\n",
        "\n",
        "se1 | se2                                # Output: {1, 2, 3, 4, 5, 6, 7, 8}\n",
        "se1.union(se2)                           # Output: {1, 2, 3, 4, 5, 6, 7, 8}\n",
        "```\n",
        "\n",
        "```\n",
        "# intersection\n",
        "\n",
        "se1 = {1, 3, 5, 7, 9}\n",
        "\n",
        "se2 = {2, 4, 6, 8, 9}\n",
        "\n",
        "se1 & se2                                # Output: 9\n",
        "se1.intersection(se2)                    # Output: 9\n",
        "```\n",
        "\n",
        "```\n",
        "# Difference:\n",
        "\n",
        "se2 - se1                                # Output: {2, 4, 6, 8}\n",
        "se2.difference(se1)                      # Output: {2, 4, 6, 8}\n",
        "\n",
        "se1 - se2                                # Output: {1, 3, 5, 7}\n",
        "se1.difference(se2)                      # Output: {1, 3, 5, 7}\n",
        "```\n",
        "\n",
        "# Methods on Sets:\n",
        "\n",
        "```\n",
        "s = {1, 2, 3, 4, 5}\n",
        "\n",
        "# add() method:\n",
        "\n",
        "s.add(6)\n",
        "\n",
        "s                            # Output: {1, 2, 3, 4, 5, 6}\n",
        "\n",
        "\n",
        "# remove() method:\n",
        "# throws error if value does not exist\n",
        "\n",
        "s.remove(6) \n",
        "\n",
        "s                            # Output: {1, 2, 3, 4, 5}\n",
        "\n",
        "\n",
        "# discard() method:\n",
        "# output is None if value does not exist\n",
        "\n",
        "s.discard(1)\n",
        "\n",
        "s                            # Output: {2, 3, 4, 5}\n",
        "\n",
        "\n",
        "# pop() method:\n",
        "# randomly removes a value\n",
        "\n",
        "s.pop()\n",
        "\n",
        "s                            # Output: {3, 4, 5}\n",
        "\n",
        "\n",
        "```\n"
      ]
    },
    {
      "cell_type": "markdown",
      "metadata": {
        "id": "7eRao6X_BcYz"
      },
      "source": [
        "# List Comprehension:\n",
        "\n",
        "```\n",
        "li1 = ['1', '2', '3', '4', '5', '6', '7', '8', '9']\n",
        "\n",
        "li2 = []\n",
        "\n",
        "for i in range(len(li1)):\n",
        "  li2.append(int(li1[i]))\n",
        "\n",
        "li2                                             # Output: [1, 2, 3, 4, 5, 6, 7, 8, 9]\n",
        "```\n",
        "\n",
        "```\n",
        "# same operation using list comprehension:\n",
        "\n",
        "li1 = ['1', '2', '3', '4', '5', '6', '7', '8', '9']\n",
        "\n",
        "li2 = [int(li1[i]) for i in range(len(li1))]\n",
        "\n",
        "li2                                             # Output: [1, 2, 3, 4, 5, 6, 7, 8, 9]\n",
        "```\n",
        "\n",
        "```\n",
        "# create a list of squares of numbers till n:\n",
        "\n",
        "n = 10\n",
        "\n",
        "l = [i ** 2 for i in range(1, n+1)]\n",
        "\n",
        "l                                               # Output: [1, 4, 9, 16, 25, 36, 49, 64, 81, 100]\n",
        "\n",
        "\n",
        "\n",
        "# create a list of squares of numbers till n \n",
        "# for only even numbers:\n",
        "\n",
        "n = 10\n",
        "\n",
        "l = [i ** 2 for i in range(1, n+1) if i % 2 == 0]\n",
        "\n",
        "l                                              # Output: [4, 16, 36, 64, 100]\n",
        "\n",
        "\n",
        "\n",
        "```"
      ]
    },
    {
      "cell_type": "markdown",
      "metadata": {
        "id": "eF_71wQntVd4"
      },
      "source": [
        "# Functions\n",
        "\n",
        "- Only Syntax Errors are thrown while defining a function\n",
        "- Run Time Errors are thrown when a function is called\n",
        "\n",
        "```\n",
        "# defining a function: \n",
        "\n",
        "def function_name(parameter):\n",
        "  print(f'This function prints {parameter}')\n",
        "\n",
        "# calling a function:\n",
        "\n",
        "function_name(\"Hello\")                             # Output: This function prints Hello\n",
        "```\n",
        "\n",
        "```\n",
        "def square(number):\n",
        "  print(number ** 2)\n",
        "\n",
        "square(4)                                          # Output: 16\n",
        "```\n",
        "\n",
        "- Variales defined inside function have a **local scope**\n",
        "\n",
        "```\n",
        "x = 10\n",
        "y = 20\n",
        "global_z = 30\n",
        "\n",
        "def add():\n",
        "  local_z = x + y + 20\n",
        "\n",
        "print(f'Global variable: {global_z} ')                  # Output: Global variable: 30 \n",
        "\n",
        "print(local_z)                                          # Name Error - because local_z is available locally inside add() function\n",
        "\n",
        "```\n",
        "\n",
        "- We can *return* the value of local variable to the **Calling Scope**\n",
        "\n",
        "```\n",
        "2x = 10\n",
        "y = 20\n",
        "\n",
        "def add():\n",
        "  local_z = x + y\n",
        "  return local_z\n",
        "\n",
        "global_z = add()\n",
        "\n",
        "print(global_z)                                           # Output: 30\n",
        "\n",
        "```\n",
        "\n",
        "- statements after 'return' keyword are not executed\n",
        "- by default None is returned if nothing is mentioned after return keyword\n",
        "\n",
        "```\n",
        "def no_return():\n",
        "    print('Hi')\n",
        "    return\n",
        "    print('World')\n",
        "\n",
        "no_return()                                 # Output: Hi\n",
        "print(no_return())                          # Output: Hi \\n None\n",
        "\n",
        "```\n",
        "\n",
        "## Types of Arguements\n",
        "\n",
        "- Positional Required Arguements\n",
        "    - Number of parameters in function should be same as that in function definition\n",
        "    - The data is passed in the positional order of arguements  \n",
        "\n",
        "```\n",
        "def nums(x, y):\n",
        "    print(f'First arg: {x}\\t Second arg: {y}')\n",
        "    return\n",
        "\n",
        "nums(2, 4)              # Output: First arg: 2\t Second arg: 4\n",
        "\n",
        "```\n",
        "\n",
        "- Keyword Arguements\n",
        "    - Number of parameters in function should be same as that in function definition\n",
        "    - Positional order doesn't matter while passing data according keywords\n",
        "\n",
        "```\n",
        "\n",
        "def nums(x, y):\n",
        "    print(f'First arg: {x}\\t Second arg: {y}')\n",
        "    return\n",
        "\n",
        "nums(y = 2, x = 4)              # Output: First arg: 4\t Second arg: 2\n",
        "\n",
        "```\n",
        "\n",
        "\n",
        "\n",
        "- Default Arguements\n",
        "    - Number of arguements in function call can be 0 of max as per number of default arguements in function definition\n",
        "\n",
        "```\n",
        "def nums(x = 2, y = 4):\n",
        "    print(f'First arg: {x}\\t Second arg: {y}')\n",
        "    return\n",
        "\n",
        "nums()              # Output: First arg: 2\t Second arg: 4\n",
        "nums(x = 1, y = 2). # Output: First arg: 1\t Second arg: 2\n",
        "\n",
        "```\n",
        "\n",
        "\n",
        "- Variable Length Arguements\n",
        "    - Non-Keyword\n",
        "        - We use this when we don't know how many arguements need to be passed.\n",
        "        - The data passed in variable length arguement gets saved in a tuple.\n",
        "\n",
        "    ```\n",
        "def nums(x, *y):\n",
        "    print(f'First arg: {x}\\t Second arg: {y}')\n",
        "    return\n",
        "nums(2)             # Output: First arg: 2\t Second arg: ()\n",
        "nums(1, 2, 3, 4)    # Output: First arg: 1\t Second arg: (2, 3, 4)\n",
        "\n",
        "    ```\n",
        "\n",
        "    - Keyworded\n",
        "        - Data passed in keyorded variable length arguement gets saved in a dictionary.\n",
        "\n",
        "    ```\n",
        "    def nums(x, **y):\n",
        "    print(f'First arg: {x}\\t Second arg: {y}')\n",
        "    return\n",
        "nums(2, Name = \"John\", Age = 23, Region = \"Texas\")    \n",
        "# Output: First arg: 2\t Second arg: {'Name': 'John', 'Age': 23, 'Region': 'Texas'}\n",
        "     ```\n",
        "\n",
        "\n",
        "## lambda function / Anonymous Function: \n",
        ">We can create a function in one line and use it without assigning an identifier/ func name.\n",
        "\n",
        "\n",
        "```\n",
        "# functionName = lambda arg1, arg2 : expression\n",
        "\n",
        "lambda_function = lambda x, y : x + y\n",
        "\n",
        "lambda_function(2, 3)\n",
        "\n",
        "```\n",
        "\n",
        "## map() Function\n",
        "\n",
        ">- Init signature: map(\\*args, **kwargs)\n",
        "- map(func, *iterables) --> map object \n",
        "\n",
        "Make an iterator that computes the function using arguments from\n",
        "each of the iterables.  Stops when the shortest iterable is exhausted.\n",
        "\n",
        "```\n",
        "l = list('123456')\n",
        "print(l)                # Output: ['1', '2', '3', '4', '5', '6']\n",
        "l1 = list(map(int, l))\n",
        "l1                      # Output: [1, 2, 3, 4, 5, 6]\n",
        "\n",
        "```\n",
        "```\n",
        "l = [1, 2, 3, 4, 5, 6]\n",
        "\n",
        "list(map(lambda x : x**2, l))       # Output: [1, 4, 9, 16, 25, 36]\n",
        "\n",
        "```\n",
        "\n",
        "\n",
        "## filter() function:\n",
        "\n",
        "> - Init signature: filter(\\*args, **kwargs)\n",
        "- ilter(function or None, iterable) --> filter object\n",
        "\n",
        "Return an iterator yielding those items of iterable for which function(item)\n",
        "is true. If function is None, return the items that are true.\n",
        "\n",
        "```\n",
        "l = [1, 2, 3, 4, 5, 6]\n",
        "\n",
        "list(filter(lambda x : x % 2 == 0, l))      # Output: [2, 4, 6]\n",
        "\n",
        "```"
      ]
    },
    {
      "cell_type": "markdown",
      "source": [
        "# Modules\n",
        "\n",
        "- Module is same as a code library\n",
        "- It is a set of functions you want to include in your application to improve the functionality\n",
        "\n",
        "## Library \n",
        "- In-built library\n",
        "- User-defined library / Module\n",
        "- Packages\n",
        "\n",
        "```\n",
        "import platform             # imports 'platform' namespace and creates a reference in Main namespace for platform namespace\n",
        "print(platform.system())    # Output: Linux\n",
        "```\n",
        "\n",
        "```\n",
        "import os\n",
        "os.mkdir('some')\n",
        "os.rmdir('some')\n",
        "```\n",
        "\n",
        "```\n",
        "import math\n",
        "\n",
        "math.ceil(3.5)              # Output: 4\n",
        "math.floor(3.5)             # Output: 3\n",
        "math.pi                     # Output: 3.141592653589793\n",
        "```\n",
        "\n",
        "```\n",
        "# we can import all/ specific names from a module in Main gloabl/ current namespace\n",
        "\n",
        "from math import ceil, pi\n",
        "\n",
        "pi                         # Output: 3.141592653589793\n",
        "ceil(3.5)                  # Output: 4\n",
        "\n",
        "# To import all the names in current namespace from a mmodule:\n",
        "\n",
        "from math import *\n",
        "```\n",
        "\n",
        "```\n",
        "# aliasing \n",
        "\n",
        "import numpy as np\n",
        "\n",
        "np.ceil(3.5)            # Output: 4\n",
        "\n",
        "np.eye(2, dtype=int)\n",
        "#Output:\n",
        "# array([[1, 0],\n",
        "#        [0, 1]])\n",
        "```\n",
        "\n",
        "## User-defined / Custom Module\n",
        "\n",
        "```\n",
        "from google.colab import drive\n",
        "drive.mount('/content/gdrive')\n",
        "```\n",
        "\n",
        ">Mounted at /content/gdrive\n",
        "\n",
        "```\n",
        "!ls /content/gdrive/My\\ Drive/Colab\\ Notebooks/*py\n",
        "```\n",
        " \n",
        ">'/content/gdrive/My Drive/Colab Notebooks/check1.py'\n",
        "\n",
        "```\n",
        "!cat '/content/gdrive/My Drive/Colab Notebooks/check1.py'\n",
        "```\n",
        "\n",
        "> def sayHello(x):\n",
        ">>    print(f'Hello {x}!')\n",
        "\n",
        ">def sayBye(x):\n",
        ">>    print(f'Good bye {x}!')\n",
        "\n",
        "```\n",
        "import sys\n",
        "sys.path.append('/content/gdrive/My Drive/Colab Notebooks')\n",
        "```\n",
        "\n",
        "```\n",
        "import check1 as ch\n",
        "\n",
        "ch.sayHello('Rahul')\n",
        "ch.sayBye('Rahul')\n",
        "```\n",
        "\n",
        ">Hello Rahul!\\\n",
        "Good bye Rahul!"
      ],
      "metadata": {
        "id": "HGz1VSYq1fEX"
      }
    },
    {
      "cell_type": "markdown",
      "source": [
        "# Mini Project - Sign Up/ Login System"
      ],
      "metadata": {
        "id": "84Y21KrkE5Kf"
      }
    },
    {
      "cell_type": "code",
      "source": [
        "# Username and password\n",
        "# password strength\n",
        "#security questions\n",
        "    # forgot password\n",
        "    # send OTP\n",
        "    # change password\n",
        "# confirm password\n",
        "# Login status\n",
        "# Logout\n",
        "# firebase\n",
        "\n",
        "# twilio to send sms\n",
        "# time.sleep(2) to create delay\n",
        "# random module to create OTP"
      ],
      "metadata": {
        "id": "kxmcdXu4Pb45"
      },
      "execution_count": null,
      "outputs": []
    },
    {
      "cell_type": "code",
      "source": [
        "userData = {}"
      ],
      "metadata": {
        "id": "FSsRPovc9BaM"
      },
      "execution_count": null,
      "outputs": []
    },
    {
      "cell_type": "code",
      "source": [
        "def signUp():\n",
        "    while 1:\n",
        "        userNameS = input(''' \n",
        "        Enter ---> a user name\n",
        "              ---> quit to exit\n",
        "        ''')\n",
        "\n",
        "        if userNameS.lower() == 'quit':\n",
        "            print('Exiting Sign Up...')\n",
        "            return 'Failed!'\n",
        "        elif userNameS not in userData:\n",
        "            passwordS = input('Enter a strong password: ')\n",
        "            userData.update({userNameS:passwordS})\n",
        "            return 'Successful!'\n",
        "        else:\n",
        "            print('The username already exists. Please try again..')\n",
        "        "
      ],
      "metadata": {
        "id": "2dk23atG9EzF"
      },
      "execution_count": null,
      "outputs": []
    },
    {
      "cell_type": "code",
      "source": [
        "while 1:    \n",
        "    mode = input('''\n",
        "    Enter ---> 1 to Sign Up\n",
        "          ---> 2 to Log In\n",
        "          ---> quit to exit  \n",
        "    ''')\n",
        "\n",
        "    if mode == '1':\n",
        "        print('Sign Up', signUp())\n",
        "    elif mode == '2':\n",
        "        print('Log In')\n",
        "        #logIn()\n",
        "    elif mode.lower() == 'quit':\n",
        "        print('Exiting...\\nThank you!')\n",
        "        break\n",
        "    else:\n",
        "        print('Invalid input.\\nPlease try again..')"
      ],
      "metadata": {
        "id": "WG-0nzrpE45T"
      },
      "execution_count": null,
      "outputs": []
    },
    {
      "cell_type": "code",
      "source": [
        ""
      ],
      "metadata": {
        "id": "h_TGBsGN3aHW"
      },
      "execution_count": null,
      "outputs": []
    },
    {
      "cell_type": "markdown",
      "source": [
        "# ***-------->ADVANCED PYTHON<--------***"
      ],
      "metadata": {
        "id": "PknBCS_1h2w8"
      }
    },
    {
      "cell_type": "markdown",
      "source": [
        "# Exception Handling\n",
        "- Exception is an event that stops normal flow of a program during its execution\n",
        "- When python script raises an exception, it must be handled otherwise it will terminate and quit.\n",
        "\n",
        "```\n",
        "import sys\n",
        "\n",
        "while 1:\n",
        "    try:\n",
        "        marks = int(input(\"Enter Marks: \"))\n",
        "        #raise NameError\n",
        "    except NameError:\n",
        "        print(sys.exc_info()[:2])\n",
        "        break\n",
        "    except:\n",
        "        print(sys.exc_info()[:2])\n",
        "        print(\"Enter valid input...\")\n",
        "        break\n",
        "    else:\n",
        "        if marks > 40:\n",
        "            print(\"Passed\")\n",
        "        else:\n",
        "            print(\"Failed\")\n",
        "    finally:\n",
        "        print(\"Thank you!\")\n",
        "    \n",
        "```"
      ],
      "metadata": {
        "id": "lNsQ0PaAJTty"
      }
    },
    {
      "cell_type": "markdown",
      "source": [
        "# Iterators\n",
        "- It contains countable number of values\n",
        "- Its values can be iterated upon, i.e, you can traverse through all the values\n",
        "- It impliments iterator protocol, which consists iter() and next() methods.\n",
        "    - iter() is used to initialize iterator object\n",
        "    - next() is used for iteration\n",
        "\n",
        "```\n",
        "s = 'Hello'\n",
        "si = iter(s)\n",
        "\n",
        "while 1:\n",
        "    try:\n",
        "        print(next(si), end=' ')\n",
        "    except:\n",
        "        break                       # Output: H e l l o \n",
        "```\n",
        "\n",
        "## Generator functions:\n",
        "- A generator is a special type of function which does not return a single value, instead, it returns an iterator object with a sequence of values.\n",
        "- It helps us with Time Space Trade-off as it clears memory after it is used.\n",
        "\n",
        "### yield statement\n",
        "- yield keyword is used to return from a function without destroying the states of its local variable and when the function is called, the execution starts from the last yield statement\n",
        "\n",
        "```\n",
        "def square(n):\n",
        "    x = 1\n",
        "    while 1:\n",
        "        yield x**2\n",
        "        x += 1\n",
        "        if x == n:\n",
        "            return\n",
        "```\n",
        "\n",
        "```\n",
        "for i in square(5):\n",
        "    print(i, end=' ')           # Output: 1 4 9 16\n",
        "```\n",
        "\n",
        "```\n",
        "list(square(10))                # Output: [1, 4, 9, 16, 25, 36, 49, 64, 81]\n",
        "```"
      ],
      "metadata": {
        "id": "DvvYKOdipPEA"
      }
    },
    {
      "cell_type": "markdown",
      "source": [
        "# Regular Expression (RegEx) \n",
        "- A RegEx, or Regular Expression, is a sequence of characters that forms a search pattern.\n",
        "- RegEx can be used to check if a string contains the specified search pattern."
      ],
      "metadata": {
        "id": "VsOnQcFBlBhM"
      }
    },
    {
      "cell_type": "code",
      "source": [
        "import re"
      ],
      "metadata": {
        "id": "V_Cs4I3plFBq"
      },
      "execution_count": null,
      "outputs": []
    },
    {
      "cell_type": "code",
      "source": [
        "s = 'My phone number is +91-9650224909 9650224909'\n",
        "\n",
        "regex = '(?:[+]91-?)?[\\d]{10,13}'\n",
        "re.findall(regex, s)"
      ],
      "metadata": {
        "colab": {
          "base_uri": "https://localhost:8080/"
        },
        "id": "0MN9ibUxlMSW",
        "outputId": "d60340c5-ee2d-4eff-a802-29d80bcd6ef4"
      },
      "execution_count": null,
      "outputs": [
        {
          "output_type": "execute_result",
          "data": {
            "text/plain": [
              "['+91-9650224909', '9650224909']"
            ]
          },
          "metadata": {},
          "execution_count": 26
        }
      ]
    },
    {
      "cell_type": "code",
      "source": [
        ""
      ],
      "metadata": {
        "id": "sO6b-kZwyGDX"
      },
      "execution_count": null,
      "outputs": []
    },
    {
      "cell_type": "markdown",
      "source": [
        "#File Handling"
      ],
      "metadata": {
        "id": "foWLotqXR2mv"
      }
    },
    {
      "cell_type": "code",
      "source": [
        "!touch hello.py"
      ],
      "metadata": {
        "id": "Kgv2KCQjR4al"
      },
      "execution_count": null,
      "outputs": []
    },
    {
      "cell_type": "code",
      "source": [
        "!ls"
      ],
      "metadata": {
        "colab": {
          "base_uri": "https://localhost:8080/"
        },
        "id": "Y1PfUfTSXGLL",
        "outputId": "1b3da585-0fd1-4c92-dfe1-6168ae54577b"
      },
      "execution_count": null,
      "outputs": [
        {
          "output_type": "stream",
          "name": "stdout",
          "text": [
            "hello.py  sample_data\n"
          ]
        }
      ]
    },
    {
      "cell_type": "code",
      "source": [
        "open('hello.py', 'r')"
      ],
      "metadata": {
        "colab": {
          "base_uri": "https://localhost:8080/"
        },
        "id": "i2OgQPWcXHvD",
        "outputId": "3f48ada9-aa8b-4af7-fafc-b6bfed1a52ba"
      },
      "execution_count": null,
      "outputs": [
        {
          "output_type": "execute_result",
          "data": {
            "text/plain": [
              "<_io.TextIOWrapper name='hello.py' mode='r' encoding='UTF-8'>"
            ]
          },
          "metadata": {},
          "execution_count": 29
        }
      ]
    },
    {
      "cell_type": "code",
      "source": [
        "!rm -rf hello.py"
      ],
      "metadata": {
        "id": "HKv9LbgdXPAU"
      },
      "execution_count": null,
      "outputs": []
    },
    {
      "cell_type": "code",
      "source": [
        "!ls"
      ],
      "metadata": {
        "colab": {
          "base_uri": "https://localhost:8080/"
        },
        "id": "EVLixt3pXW0g",
        "outputId": "ee3c26e2-828e-486e-f84f-042a0787ae59"
      },
      "execution_count": null,
      "outputs": [
        {
          "output_type": "stream",
          "name": "stdout",
          "text": [
            "sample_data\n"
          ]
        }
      ]
    },
    {
      "cell_type": "code",
      "source": [
        "!touch hello.txt"
      ],
      "metadata": {
        "id": "QVMUUUP8XX_w"
      },
      "execution_count": null,
      "outputs": []
    },
    {
      "cell_type": "code",
      "source": [
        "open('hello.txt', 'w').write"
      ],
      "metadata": {
        "colab": {
          "base_uri": "https://localhost:8080/"
        },
        "id": "NLwOoGUbXcuK",
        "outputId": "98a13688-883e-4958-a080-9d7f12668e6a"
      },
      "execution_count": null,
      "outputs": [
        {
          "output_type": "execute_result",
          "data": {
            "text/plain": [
              "<function TextIOWrapper.write>"
            ]
          },
          "metadata": {},
          "execution_count": 40
        }
      ]
    },
    {
      "cell_type": "code",
      "source": [
        "!ls /content/sample_data/"
      ],
      "metadata": {
        "colab": {
          "base_uri": "https://localhost:8080/"
        },
        "id": "sk0f1LtOXvpt",
        "outputId": "6d2dcec4-257b-467c-b946-ea8080489d7b"
      },
      "execution_count": null,
      "outputs": [
        {
          "output_type": "stream",
          "name": "stdout",
          "text": [
            "anscombe.json\t\t      mnist_test.csv\n",
            "california_housing_test.csv   mnist_train_small.csv\n",
            "california_housing_train.csv  README.md\n"
          ]
        }
      ]
    },
    {
      "cell_type": "code",
      "source": [
        "open('/content/sample_data/california_housing_test.csv', 'r').readlines(3)"
      ],
      "metadata": {
        "colab": {
          "base_uri": "https://localhost:8080/"
        },
        "id": "54uX6XG-ZUGb",
        "outputId": "f021d2cd-aee1-41a4-d5dc-0acf73ce036a"
      },
      "execution_count": null,
      "outputs": [
        {
          "output_type": "execute_result",
          "data": {
            "text/plain": [
              "['\"longitude\",\"latitude\",\"housing_median_age\",\"total_rooms\",\"total_bedrooms\",\"population\",\"households\",\"median_income\",\"median_house_value\"\\n']"
            ]
          },
          "metadata": {},
          "execution_count": 55
        }
      ]
    },
    {
      "cell_type": "code",
      "source": [
        "!ls"
      ],
      "metadata": {
        "colab": {
          "base_uri": "https://localhost:8080/"
        },
        "id": "FgE9OBcucTm-",
        "outputId": "8b7f25e5-5d99-4a66-b0f9-b998e4e32322"
      },
      "execution_count": null,
      "outputs": [
        {
          "output_type": "stream",
          "name": "stdout",
          "text": [
            "hello.txt  sample_data\n"
          ]
        }
      ]
    },
    {
      "cell_type": "code",
      "source": [
        "!rm -rf hello.txt"
      ],
      "metadata": {
        "id": "uRZaLOrWcXQa"
      },
      "execution_count": null,
      "outputs": []
    },
    {
      "cell_type": "code",
      "source": [
        "!ls"
      ],
      "metadata": {
        "colab": {
          "base_uri": "https://localhost:8080/"
        },
        "id": "-dx6eXc2ci-k",
        "outputId": "dd2052aa-f4ab-470e-e9cc-178dbadb1793"
      },
      "execution_count": null,
      "outputs": [
        {
          "output_type": "stream",
          "name": "stdout",
          "text": [
            "hello.txt  sample_data\n"
          ]
        }
      ]
    },
    {
      "cell_type": "code",
      "source": [
        "fw= open('hello.txt', 'w')"
      ],
      "metadata": {
        "id": "GaXAYKL5eYGA"
      },
      "execution_count": null,
      "outputs": []
    },
    {
      "cell_type": "code",
      "source": [
        "fw.write('Hello there!')"
      ],
      "metadata": {
        "colab": {
          "base_uri": "https://localhost:8080/"
        },
        "id": "TnPxpcc7ctEu",
        "outputId": "d96473aa-e6fc-48be-c9b0-a0628f0f7a26"
      },
      "execution_count": null,
      "outputs": [
        {
          "output_type": "execute_result",
          "data": {
            "text/plain": [
              "12"
            ]
          },
          "metadata": {},
          "execution_count": 72
        }
      ]
    },
    {
      "cell_type": "code",
      "source": [
        "fw.close()"
      ],
      "metadata": {
        "id": "ZhFTgyypf_E0"
      },
      "execution_count": null,
      "outputs": []
    },
    {
      "cell_type": "code",
      "source": [
        "fo = open('hello.txt', 'r')"
      ],
      "metadata": {
        "id": "4Sk7tp3idYSm"
      },
      "execution_count": null,
      "outputs": []
    },
    {
      "cell_type": "code",
      "source": [
        "fo.read()"
      ],
      "metadata": {
        "colab": {
          "base_uri": "https://localhost:8080/",
          "height": 37
        },
        "id": "r1T1XrSEdpBt",
        "outputId": "3b566723-d071-42a2-c538-8fee551f073c"
      },
      "execution_count": null,
      "outputs": [
        {
          "output_type": "execute_result",
          "data": {
            "text/plain": [
              "'Hello there!'"
            ],
            "application/vnd.google.colaboratory.intrinsic+json": {
              "type": "string"
            }
          },
          "metadata": {},
          "execution_count": 75
        }
      ]
    },
    {
      "cell_type": "code",
      "source": [
        "fa = open('hello.txt', 'a')"
      ],
      "metadata": {
        "id": "Qu7gIucNgHrA"
      },
      "execution_count": null,
      "outputs": []
    },
    {
      "cell_type": "code",
      "source": [
        "fa.write(\"This just got appended!\")"
      ],
      "metadata": {
        "colab": {
          "base_uri": "https://localhost:8080/"
        },
        "id": "JafTtcAlgamz",
        "outputId": "9cc08356-493d-4773-9fb7-6184460a845e"
      },
      "execution_count": null,
      "outputs": [
        {
          "output_type": "execute_result",
          "data": {
            "text/plain": [
              "23"
            ]
          },
          "metadata": {},
          "execution_count": 77
        }
      ]
    },
    {
      "cell_type": "code",
      "source": [
        "fa.close()"
      ],
      "metadata": {
        "id": "hWSpWox7ge4N"
      },
      "execution_count": null,
      "outputs": []
    },
    {
      "cell_type": "code",
      "source": [
        "fo"
      ],
      "metadata": {
        "colab": {
          "base_uri": "https://localhost:8080/"
        },
        "id": "SO9emUd2ghpB",
        "outputId": "2910604b-fd00-4a87-99ed-73dcdb123292"
      },
      "execution_count": null,
      "outputs": [
        {
          "output_type": "execute_result",
          "data": {
            "text/plain": [
              "<_io.TextIOWrapper name='hello.txt' mode='r' encoding='UTF-8'>"
            ]
          },
          "metadata": {},
          "execution_count": 84
        }
      ]
    },
    {
      "cell_type": "code",
      "source": [
        "fo.read()"
      ],
      "metadata": {
        "colab": {
          "base_uri": "https://localhost:8080/",
          "height": 37
        },
        "id": "2jaY5NDTglVb",
        "outputId": "5e7abc6c-2ec3-40de-feec-26dcf607fa9d"
      },
      "execution_count": null,
      "outputs": [
        {
          "output_type": "execute_result",
          "data": {
            "text/plain": [
              "''"
            ],
            "application/vnd.google.colaboratory.intrinsic+json": {
              "type": "string"
            }
          },
          "metadata": {},
          "execution_count": 85
        }
      ]
    },
    {
      "cell_type": "code",
      "source": [
        "fo.seek(0)"
      ],
      "metadata": {
        "colab": {
          "base_uri": "https://localhost:8080/"
        },
        "id": "iLCPPtFPg3nK",
        "outputId": "5e8197e0-2c55-413b-912f-ba0e676c5d2c"
      },
      "execution_count": null,
      "outputs": [
        {
          "output_type": "execute_result",
          "data": {
            "text/plain": [
              "0"
            ]
          },
          "metadata": {},
          "execution_count": 86
        }
      ]
    },
    {
      "cell_type": "code",
      "source": [
        "fo.read()"
      ],
      "metadata": {
        "colab": {
          "base_uri": "https://localhost:8080/",
          "height": 37
        },
        "id": "PD88XoCSg-pi",
        "outputId": "ae7623db-b0f9-437c-9208-2c25409e363b"
      },
      "execution_count": null,
      "outputs": [
        {
          "output_type": "execute_result",
          "data": {
            "text/plain": [
              "'Hello there!This just got appended!'"
            ],
            "application/vnd.google.colaboratory.intrinsic+json": {
              "type": "string"
            }
          },
          "metadata": {},
          "execution_count": 87
        }
      ]
    },
    {
      "cell_type": "code",
      "source": [
        "fo.close()"
      ],
      "metadata": {
        "id": "7QFQh-TJhAXA"
      },
      "execution_count": null,
      "outputs": []
    },
    {
      "cell_type": "code",
      "source": [
        "# with statement\n",
        "# takes care of closing the file\n",
        "\n",
        "with open('hello.txt', 'w+') as fo:\n",
        "    fo.read()\n",
        "    fo.write('Hey!')\n"
      ],
      "metadata": {
        "id": "hAjpPaPYieOg"
      },
      "execution_count": null,
      "outputs": []
    },
    {
      "cell_type": "code",
      "source": [
        "fo.read()"
      ],
      "metadata": {
        "colab": {
          "base_uri": "https://localhost:8080/",
          "height": 164
        },
        "id": "Sstr3Awzli_1",
        "outputId": "cc5676a0-d0b5-4af8-b9a7-0d51c34d2424"
      },
      "execution_count": null,
      "outputs": [
        {
          "output_type": "error",
          "ename": "ValueError",
          "evalue": "ignored",
          "traceback": [
            "\u001b[0;31m---------------------------------------------------------------------------\u001b[0m",
            "\u001b[0;31mValueError\u001b[0m                                Traceback (most recent call last)",
            "\u001b[0;32m<ipython-input-91-46ec01e64536>\u001b[0m in \u001b[0;36m<module>\u001b[0;34m()\u001b[0m\n\u001b[0;32m----> 1\u001b[0;31m \u001b[0mfo\u001b[0m\u001b[0;34m.\u001b[0m\u001b[0mread\u001b[0m\u001b[0;34m(\u001b[0m\u001b[0;34m)\u001b[0m\u001b[0;34m\u001b[0m\u001b[0;34m\u001b[0m\u001b[0m\n\u001b[0m",
            "\u001b[0;31mValueError\u001b[0m: I/O operation on closed file."
          ]
        }
      ]
    }
  ],
  "metadata": {
    "colab": {
      "collapsed_sections": [],
      "name": "LearnBay Python Notes",
      "provenance": []
    },
    "kernelspec": {
      "display_name": "Python 3",
      "name": "python3"
    },
    "language_info": {
      "name": "python"
    }
  },
  "nbformat": 4,
  "nbformat_minor": 0
}